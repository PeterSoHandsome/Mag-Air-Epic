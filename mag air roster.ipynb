{
 "cells": [
  {
   "cell_type": "code",
   "execution_count": 2,
   "metadata": {},
   "outputs": [],
   "source": [
    "import numpy as np\n",
    "import pandas as pd\n",
    "import matplotlib.pyplot as plt\n",
    "import seaborn as sns\n",
    "import warnings\n",
    "warnings.filterwarnings('ignore')\n"
   ]
  },
  {
   "cell_type": "code",
   "execution_count": 3,
   "metadata": {},
   "outputs": [],
   "source": [
    "icebreaker = [\n",
    "    #input an answer here like the example, then push your changes\n",
    "    #['Example Name.','Example Answer.'],\n",
    "    ['Peter','I would rather learn 10 languages.'],\n",
    "    ['Nathan', 'I would rather play 10 instruments'],\n",
    "    ['Isabella', 'I want to visit Vermont']\n",
    "\n",
    "]\n",
    "# Making dataframe\n",
    "fart = pd.DataFrame(icebreaker, columns=['Name','Would You Rather?'])"
   ]
  },
  {
   "cell_type": "code",
   "execution_count": 4,
   "metadata": {},
   "outputs": [
    {
     "name": "stdout",
     "output_type": "stream",
     "text": [
      "       Name                   Would You Rather?\n",
      "0     Peter  I would rather learn 10 languages.\n",
      "1    Nathan  I would rather play 10 instruments\n",
      "2  Isabella             I want to visit Vermont\n"
     ]
    }
   ],
   "source": [
    "print(fart)"
   ]
  },
  {
   "cell_type": "code",
   "execution_count": null,
   "metadata": {},
   "outputs": [],
   "source": []
  }
 ],
 "metadata": {
  "kernelspec": {
   "display_name": "MagAirChemECar",
   "language": "python",
   "name": "python3"
  },
  "language_info": {
   "codemirror_mode": {
    "name": "ipython",
    "version": 3
   },
   "file_extension": ".py",
   "mimetype": "text/x-python",
   "name": "python",
   "nbconvert_exporter": "python",
   "pygments_lexer": "ipython3",
   "version": "3.12.5"
  }
 },
 "nbformat": 4,
 "nbformat_minor": 2
}
